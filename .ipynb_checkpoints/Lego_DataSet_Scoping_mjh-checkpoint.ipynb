{
 "cells": [
  {
   "cell_type": "markdown",
   "id": "76fc7c80",
   "metadata": {},
   "source": [
    "![alt text](lego-button-2-1661351794140.jpg \"Lego Scema\")"
   ]
  },
  {
   "cell_type": "markdown",
   "id": "17468349",
   "metadata": {},
   "source": [
    "## Lego DataSet Exploratory Data Analysis\n",
    "### DataSci200 Project 2\n",
    "#### https://www.kaggle.com/datasets/rtatman/lego-database?resource=download"
   ]
  },
  {
   "cell_type": "markdown",
   "id": "80b625bf",
   "metadata": {},
   "source": [
    "![alt text](downloads_schema.png \"Lego Scema\")"
   ]
  },
  {
   "cell_type": "code",
   "execution_count": 45,
   "id": "e665eaa0",
   "metadata": {},
   "outputs": [],
   "source": [
    "import pandas as pd\n",
    "import numpy as np\n",
    "import matplotlib.pyplot as plt"
   ]
  },
  {
   "cell_type": "code",
   "execution_count": 46,
   "id": "1dd25278",
   "metadata": {},
   "outputs": [
    {
     "name": "stderr",
     "output_type": "stream",
     "text": [
      "C:\\Users\\mhurth\\AppData\\Local\\Temp\\1\\ipykernel_47576\\1536073190.py:5: DtypeWarning: Columns (4) have mixed types. Specify dtype option on import or set low_memory=False.\n",
      "  imdb_titles = pd.read_csv(\"data/title.basics.tsv.gz\", sep= \"\\t\")\n"
     ]
    }
   ],
   "source": [
    "# Import Individual Lego DataFrames\n",
    "sets = pd.read_csv(\"data/sets.csv.gz\")\n",
    "themes = pd.read_csv(\"data/themes.csv.gz\")\n",
    "#Import IMDB data\n",
    "imdb_titles = pd.read_csv(\"data/title.basics.tsv.gz\", sep= \"\\t\")\n",
    "imdb_ratings = pd.read_csv(\"data/title.ratings.tsv.gz\", sep= \"\\t\")\n",
    "# Import Box Office Data\n",
    "box_office_numbers = pd.read_csv(\"data/boxofficemojotopfranchises.tsv\", sep= \"\\t\")"
   ]
  },
  {
   "cell_type": "code",
   "execution_count": 47,
   "id": "84464511",
   "metadata": {},
   "outputs": [
    {
     "data": {
      "text/html": [
       "<div>\n",
       "<style scoped>\n",
       "    .dataframe tbody tr th:only-of-type {\n",
       "        vertical-align: middle;\n",
       "    }\n",
       "\n",
       "    .dataframe tbody tr th {\n",
       "        vertical-align: top;\n",
       "    }\n",
       "\n",
       "    .dataframe thead th {\n",
       "        text-align: right;\n",
       "    }\n",
       "</style>\n",
       "<table border=\"1\" class=\"dataframe\">\n",
       "  <thead>\n",
       "    <tr style=\"text-align: right;\">\n",
       "      <th></th>\n",
       "      <th>DataFrames</th>\n",
       "      <th>Source</th>\n",
       "      <th>Row Count</th>\n",
       "      <th>Column Count</th>\n",
       "    </tr>\n",
       "  </thead>\n",
       "  <tbody>\n",
       "    <tr>\n",
       "      <th>0</th>\n",
       "      <td>sets</td>\n",
       "      <td>lego</td>\n",
       "      <td>20963</td>\n",
       "      <td>6</td>\n",
       "    </tr>\n",
       "    <tr>\n",
       "      <th>1</th>\n",
       "      <td>themes</td>\n",
       "      <td>lego</td>\n",
       "      <td>462</td>\n",
       "      <td>3</td>\n",
       "    </tr>\n",
       "    <tr>\n",
       "      <th>2</th>\n",
       "      <td>imdb_titles</td>\n",
       "      <td>imdb</td>\n",
       "      <td>9759339</td>\n",
       "      <td>9</td>\n",
       "    </tr>\n",
       "    <tr>\n",
       "      <th>3</th>\n",
       "      <td>imdb_ratings</td>\n",
       "      <td>imdb</td>\n",
       "      <td>1300226</td>\n",
       "      <td>3</td>\n",
       "    </tr>\n",
       "    <tr>\n",
       "      <th>4</th>\n",
       "      <td>box_office_numbers</td>\n",
       "      <td>mojo</td>\n",
       "      <td>292</td>\n",
       "      <td>5</td>\n",
       "    </tr>\n",
       "  </tbody>\n",
       "</table>\n",
       "</div>"
      ],
      "text/plain": [
       "           DataFrames Source  Row Count  Column Count\n",
       "0                sets   lego      20963             6\n",
       "1              themes   lego        462             3\n",
       "2         imdb_titles   imdb    9759339             9\n",
       "3        imdb_ratings   imdb    1300226             3\n",
       "4  box_office_numbers   mojo        292             5"
      ]
     },
     "execution_count": 47,
     "metadata": {},
     "output_type": "execute_result"
    }
   ],
   "source": [
    "df_list = [sets, themes, imdb_titles, imdb_ratings, box_office_numbers]\n",
    "var_names = [\"sets\", \"themes\", \"imdb_titles\", \"imdb_ratings\", \"box_office_numbers\"]\n",
    "source = [\"lego\", \"lego\", \"imdb\", \"imdb\", \"mojo\"]\n",
    "rows = []\n",
    "cols = []\n",
    "for df in df_list:\n",
    "    rows.append(df.shape[0])\n",
    "    cols.append(df.shape[1])\n",
    "data_shapes = pd.DataFrame({\"DataFrames\":var_names, \"Source\": source, \"Row Count\": rows, \"Column Count\":cols})\n",
    "data_shapes"
   ]
  },
  {
   "cell_type": "code",
   "execution_count": 34,
   "id": "0d8a82ce",
   "metadata": {},
   "outputs": [
    {
     "name": "stdout",
     "output_type": "stream",
     "text": [
      "--------------------\n",
      "For DataFrame sets the columns and datatypes are:\n",
      "set_num      object\n",
      "name         object\n",
      "year          int64\n",
      "theme_id      int64\n",
      "num_parts     int64\n",
      "img_url      object\n",
      "dtype: object\n",
      "--------------------\n",
      "For DataFrame themes the columns and datatypes are:\n",
      "id             int64\n",
      "name          object\n",
      "parent_id    float64\n",
      "dtype: object\n",
      "--------------------\n",
      "For DataFrame imdb_titles the columns and datatypes are:\n",
      "tconst            object\n",
      "titleType         object\n",
      "primaryTitle      object\n",
      "originalTitle     object\n",
      "isAdult           object\n",
      "startYear         object\n",
      "endYear           object\n",
      "runtimeMinutes    object\n",
      "genres            object\n",
      "dtype: object\n",
      "--------------------\n",
      "For DataFrame imdb_ratings the columns and datatypes are:\n",
      "tconst            object\n",
      "averageRating    float64\n",
      "numVotes           int64\n",
      "dtype: object\n",
      "--------------------\n",
      "For DataFrame box_office_numbers the columns and datatypes are:\n",
      "Franchise         object\n",
      "Total              int64\n",
      "Releases           int64\n",
      "#1 Release        object\n",
      "Lifetime Gross     int64\n",
      "dtype: object\n"
     ]
    }
   ],
   "source": [
    "for d, n in zip(df_list, var_names):\n",
    "    print(\"-\"*20)\n",
    "    print(f\"For DataFrame {n} the columns and datatypes are:\")\n",
    "    print(d.dtypes)\n",
    "                "
   ]
  },
  {
   "cell_type": "code",
   "execution_count": 35,
   "id": "8c96c3e4",
   "metadata": {},
   "outputs": [
    {
     "data": {
      "text/plain": [
       "Index(['Franchise', 'Total', 'Releases', '#1 Release', 'Lifetime Gross'], dtype='object')"
      ]
     },
     "execution_count": 35,
     "metadata": {},
     "output_type": "execute_result"
    }
   ],
   "source": [
    "box_office_numbers.columns"
   ]
  },
  {
   "cell_type": "code",
   "execution_count": 36,
   "id": "aa7c9f18",
   "metadata": {},
   "outputs": [
    {
     "name": "stdout",
     "output_type": "stream",
     "text": [
      "Lego Sets 'year' Column\n",
      "--------------------\n",
      "count    20963.000000\n",
      "mean      2007.281305\n",
      "std         13.952494\n",
      "min       1949.000000\n",
      "25%       2001.000000\n",
      "50%       2012.000000\n",
      "75%       2018.000000\n",
      "max       2023.000000\n",
      "Name: year, dtype: float64\n"
     ]
    }
   ],
   "source": [
    "print(\"Lego Sets 'year' Column\")\n",
    "print(\"-\"*20)\n",
    "print(sets.year.describe())"
   ]
  },
  {
   "cell_type": "code",
   "execution_count": 37,
   "id": "e01390b7",
   "metadata": {},
   "outputs": [
    {
     "name": "stdout",
     "output_type": "stream",
     "text": [
      "Lego Sets 'num_parts' Column\n",
      "--------------------\n",
      "count    20963.000000\n",
      "mean       160.068025\n",
      "std        411.576082\n",
      "min          0.000000\n",
      "25%          4.000000\n",
      "50%         32.000000\n",
      "75%        141.000000\n",
      "max      11695.000000\n",
      "Name: num_parts, dtype: float64\n"
     ]
    },
    {
     "data": {
      "text/plain": [
       "4206"
      ]
     },
     "execution_count": 37,
     "metadata": {},
     "output_type": "execute_result"
    }
   ],
   "source": [
    "print(\"Lego Sets 'num_parts' Column\")\n",
    "print(\"-\"*20)\n",
    "print(sets.num_parts.describe())\n",
    "sum(sets.num_parts == 0)"
   ]
  },
  {
   "cell_type": "code",
   "execution_count": 40,
   "id": "d73459f0",
   "metadata": {},
   "outputs": [
    {
     "name": "stdout",
     "output_type": "stream",
     "text": [
      "IMDB Ratings 'averageRating' Column\n",
      "--------------------\n",
      "count    1.300226e+06\n",
      "mean     6.950157e+00\n",
      "std      1.383791e+00\n",
      "min      1.000000e+00\n",
      "25%      6.200000e+00\n",
      "50%      7.100000e+00\n",
      "75%      7.900000e+00\n",
      "max      1.000000e+01\n",
      "Name: averageRating, dtype: float64\n"
     ]
    }
   ],
   "source": [
    "print(\"IMDB Ratings 'averageRating' Column\")\n",
    "print(\"-\"*20)\n",
    "print(imdb_ratings.averageRating.describe())"
   ]
  },
  {
   "cell_type": "code",
   "execution_count": 38,
   "id": "dc0363ea",
   "metadata": {
    "scrolled": true
   },
   "outputs": [
    {
     "name": "stdout",
     "output_type": "stream",
     "text": [
      "IMDB Title 'startYear' Column\n",
      "--------------------\n",
      "nulls for startYear 1319323\n",
      "count    8.440016e+06\n",
      "mean     2.005066e+03\n",
      "std      2.015745e+01\n",
      "min      1.874000e+03\n",
      "25%      2.001000e+03\n",
      "50%      2.012000e+03\n",
      "75%      2.018000e+03\n",
      "max      2.030000e+03\n",
      "Name: startYear, dtype: float64\n"
     ]
    }
   ],
   "source": [
    "print(\"IMDB Title 'startYear' Column\")\n",
    "print(\"-\"*20)\n",
    "imdb_titles.loc[imdb_titles[\"startYear\"]==\"\\\\N\", \"startYear\"] = np.nan\n",
    "print(f\"nulls for startYear {sum(imdb_titles.startYear.isna())}\")\n",
    "imdb_titles.dropna(subset=\"startYear\", inplace=True)\n",
    "imdb_titles[\"startYear\"] = imdb_titles[\"startYear\"].astype(float)\n",
    "print(imdb_titles.startYear.describe())"
   ]
  },
  {
   "cell_type": "code",
   "execution_count": 42,
   "id": "388ad524",
   "metadata": {},
   "outputs": [
    {
     "name": "stdout",
     "output_type": "stream",
     "text": [
      "Box Office Mojo 'Lifetime Gross' Column\n",
      "--------------------\n",
      "count    2.920000e+02\n",
      "mean     1.649396e+08\n",
      "std      1.532204e+08\n",
      "min      1.003450e+05\n",
      "25%      6.088117e+07\n",
      "50%      1.266073e+08\n",
      "75%      2.175474e+08\n",
      "max      9.366622e+08\n",
      "Name: Lifetime Gross, dtype: float64\n"
     ]
    },
    {
     "data": {
      "text/html": [
       "<div>\n",
       "<style scoped>\n",
       "    .dataframe tbody tr th:only-of-type {\n",
       "        vertical-align: middle;\n",
       "    }\n",
       "\n",
       "    .dataframe tbody tr th {\n",
       "        vertical-align: top;\n",
       "    }\n",
       "\n",
       "    .dataframe thead th {\n",
       "        text-align: right;\n",
       "    }\n",
       "</style>\n",
       "<table border=\"1\" class=\"dataframe\">\n",
       "  <thead>\n",
       "    <tr style=\"text-align: right;\">\n",
       "      <th></th>\n",
       "      <th>Franchise</th>\n",
       "      <th>Total</th>\n",
       "      <th>Releases</th>\n",
       "      <th>#1 Release</th>\n",
       "      <th>Lifetime Gross</th>\n",
       "    </tr>\n",
       "  </thead>\n",
       "  <tbody>\n",
       "    <tr>\n",
       "      <th>291</th>\n",
       "      <td>V/H/S</td>\n",
       "      <td>124934</td>\n",
       "      <td>3</td>\n",
       "      <td>V/H/S</td>\n",
       "      <td>100345</td>\n",
       "    </tr>\n",
       "  </tbody>\n",
       "</table>\n",
       "</div>"
      ],
      "text/plain": [
       "    Franchise   Total  Releases #1 Release  Lifetime Gross\n",
       "291     V/H/S  124934         3      V/H/S          100345"
      ]
     },
     "execution_count": 42,
     "metadata": {},
     "output_type": "execute_result"
    }
   ],
   "source": [
    "print(\"Box Office Mojo 'Lifetime Gross' Column\")\n",
    "print(\"-\"*20)\n",
    "print(box_office_numbers['Lifetime Gross'].describe())\n",
    "box_office_numbers[box_office_numbers['Lifetime Gross'] == box_office_numbers['Lifetime Gross'].min()]"
   ]
  },
  {
   "cell_type": "code",
   "execution_count": 5,
   "id": "97f81fdf",
   "metadata": {},
   "outputs": [
    {
     "data": {
      "text/html": [
       "<div>\n",
       "<style scoped>\n",
       "    .dataframe tbody tr th:only-of-type {\n",
       "        vertical-align: middle;\n",
       "    }\n",
       "\n",
       "    .dataframe tbody tr th {\n",
       "        vertical-align: top;\n",
       "    }\n",
       "\n",
       "    .dataframe thead th {\n",
       "        text-align: right;\n",
       "    }\n",
       "</style>\n",
       "<table border=\"1\" class=\"dataframe\">\n",
       "  <thead>\n",
       "    <tr style=\"text-align: right;\">\n",
       "      <th></th>\n",
       "      <th>tconst</th>\n",
       "      <th>titleType</th>\n",
       "      <th>primaryTitle</th>\n",
       "      <th>originalTitle</th>\n",
       "      <th>isAdult</th>\n",
       "      <th>startYear</th>\n",
       "      <th>endYear</th>\n",
       "      <th>runtimeMinutes</th>\n",
       "      <th>genres</th>\n",
       "    </tr>\n",
       "  </thead>\n",
       "  <tbody>\n",
       "    <tr>\n",
       "      <th>75151</th>\n",
       "      <td>tt0076759</td>\n",
       "      <td>movie</td>\n",
       "      <td>Star Wars: Episode IV - A New Hope</td>\n",
       "      <td>Star Wars</td>\n",
       "      <td>0</td>\n",
       "      <td>1977</td>\n",
       "      <td>\\N</td>\n",
       "      <td>121</td>\n",
       "      <td>Action,Adventure,Fantasy</td>\n",
       "    </tr>\n",
       "    <tr>\n",
       "      <th>78967</th>\n",
       "      <td>tt0080684</td>\n",
       "      <td>movie</td>\n",
       "      <td>Star Wars: Episode V - The Empire Strikes Back</td>\n",
       "      <td>The Empire Strikes Back</td>\n",
       "      <td>0</td>\n",
       "      <td>1980</td>\n",
       "      <td>\\N</td>\n",
       "      <td>124</td>\n",
       "      <td>Action,Adventure,Fantasy</td>\n",
       "    </tr>\n",
       "    <tr>\n",
       "      <th>84311</th>\n",
       "      <td>tt0086190</td>\n",
       "      <td>movie</td>\n",
       "      <td>Star Wars: Episode VI - Return of the Jedi</td>\n",
       "      <td>Star Wars: Episode VI - Return of the Jedi</td>\n",
       "      <td>0</td>\n",
       "      <td>1983</td>\n",
       "      <td>\\N</td>\n",
       "      <td>131</td>\n",
       "      <td>Action,Adventure,Fantasy</td>\n",
       "    </tr>\n",
       "    <tr>\n",
       "      <th>86566</th>\n",
       "      <td>tt0088510</td>\n",
       "      <td>tvSeries</td>\n",
       "      <td>Star Wars: Droids</td>\n",
       "      <td>Star Wars: Droids</td>\n",
       "      <td>0</td>\n",
       "      <td>1985</td>\n",
       "      <td>1986</td>\n",
       "      <td>\\N</td>\n",
       "      <td>Action,Adventure,Animation</td>\n",
       "    </tr>\n",
       "    <tr>\n",
       "      <th>117975</th>\n",
       "      <td>tt0120915</td>\n",
       "      <td>movie</td>\n",
       "      <td>Star Wars: Episode I - The Phantom Menace</td>\n",
       "      <td>Star Wars: Episode I - The Phantom Menace</td>\n",
       "      <td>0</td>\n",
       "      <td>1999</td>\n",
       "      <td>\\N</td>\n",
       "      <td>136</td>\n",
       "      <td>Action,Adventure,Fantasy</td>\n",
       "    </tr>\n",
       "    <tr>\n",
       "      <th>...</th>\n",
       "      <td>...</td>\n",
       "      <td>...</td>\n",
       "      <td>...</td>\n",
       "      <td>...</td>\n",
       "      <td>...</td>\n",
       "      <td>...</td>\n",
       "      <td>...</td>\n",
       "      <td>...</td>\n",
       "      <td>...</td>\n",
       "    </tr>\n",
       "    <tr>\n",
       "      <th>9683521</th>\n",
       "      <td>tt9842960</td>\n",
       "      <td>videoGame</td>\n",
       "      <td>Star Wars: Pit Droids</td>\n",
       "      <td>Star Wars: Pit Droids</td>\n",
       "      <td>0</td>\n",
       "      <td>1999</td>\n",
       "      <td>\\N</td>\n",
       "      <td>\\N</td>\n",
       "      <td>Sci-Fi</td>\n",
       "    </tr>\n",
       "    <tr>\n",
       "      <th>9686187</th>\n",
       "      <td>tt9848652</td>\n",
       "      <td>tvEpisode</td>\n",
       "      <td>Star Wars Destiny</td>\n",
       "      <td>Star Wars Destiny</td>\n",
       "      <td>0</td>\n",
       "      <td>2017</td>\n",
       "      <td>\\N</td>\n",
       "      <td>32</td>\n",
       "      <td>Comedy,Game-Show</td>\n",
       "    </tr>\n",
       "    <tr>\n",
       "      <th>9708082</th>\n",
       "      <td>tt9896532</td>\n",
       "      <td>tvEpisode</td>\n",
       "      <td>Star Wars Artist Erin Lefler Draws Star Lord</td>\n",
       "      <td>Star Wars Artist Erin Lefler Draws Star Lord</td>\n",
       "      <td>0</td>\n",
       "      <td>2018</td>\n",
       "      <td>\\N</td>\n",
       "      <td>\\N</td>\n",
       "      <td>Reality-TV</td>\n",
       "    </tr>\n",
       "    <tr>\n",
       "      <th>9708704</th>\n",
       "      <td>tt9897876</td>\n",
       "      <td>tvEpisode</td>\n",
       "      <td>Star Wars: Episode IX Wraps, Plus New Celebrat...</td>\n",
       "      <td>Star Wars: Episode IX Wraps, Plus New Celebrat...</td>\n",
       "      <td>0</td>\n",
       "      <td>2019</td>\n",
       "      <td>\\N</td>\n",
       "      <td>\\N</td>\n",
       "      <td>Sci-Fi,Short,Talk-Show</td>\n",
       "    </tr>\n",
       "    <tr>\n",
       "      <th>9708744</th>\n",
       "      <td>tt9897958</td>\n",
       "      <td>tvEpisode</td>\n",
       "      <td>Queen's Shadow Author E.K. Johnston, Plus Star...</td>\n",
       "      <td>Queen's Shadow Author E.K. Johnston, Plus Star...</td>\n",
       "      <td>0</td>\n",
       "      <td>2019</td>\n",
       "      <td>\\N</td>\n",
       "      <td>\\N</td>\n",
       "      <td>Sci-Fi,Short,Talk-Show</td>\n",
       "    </tr>\n",
       "  </tbody>\n",
       "</table>\n",
       "<p>5039 rows × 9 columns</p>\n",
       "</div>"
      ],
      "text/plain": [
       "            tconst  titleType  \\\n",
       "75151    tt0076759      movie   \n",
       "78967    tt0080684      movie   \n",
       "84311    tt0086190      movie   \n",
       "86566    tt0088510   tvSeries   \n",
       "117975   tt0120915      movie   \n",
       "...            ...        ...   \n",
       "9683521  tt9842960  videoGame   \n",
       "9686187  tt9848652  tvEpisode   \n",
       "9708082  tt9896532  tvEpisode   \n",
       "9708704  tt9897876  tvEpisode   \n",
       "9708744  tt9897958  tvEpisode   \n",
       "\n",
       "                                              primaryTitle  \\\n",
       "75151                   Star Wars: Episode IV - A New Hope   \n",
       "78967       Star Wars: Episode V - The Empire Strikes Back   \n",
       "84311           Star Wars: Episode VI - Return of the Jedi   \n",
       "86566                                    Star Wars: Droids   \n",
       "117975           Star Wars: Episode I - The Phantom Menace   \n",
       "...                                                    ...   \n",
       "9683521                              Star Wars: Pit Droids   \n",
       "9686187                                  Star Wars Destiny   \n",
       "9708082       Star Wars Artist Erin Lefler Draws Star Lord   \n",
       "9708704  Star Wars: Episode IX Wraps, Plus New Celebrat...   \n",
       "9708744  Queen's Shadow Author E.K. Johnston, Plus Star...   \n",
       "\n",
       "                                             originalTitle isAdult startYear  \\\n",
       "75151                                            Star Wars       0      1977   \n",
       "78967                              The Empire Strikes Back       0      1980   \n",
       "84311           Star Wars: Episode VI - Return of the Jedi       0      1983   \n",
       "86566                                    Star Wars: Droids       0      1985   \n",
       "117975           Star Wars: Episode I - The Phantom Menace       0      1999   \n",
       "...                                                    ...     ...       ...   \n",
       "9683521                              Star Wars: Pit Droids       0      1999   \n",
       "9686187                                  Star Wars Destiny       0      2017   \n",
       "9708082       Star Wars Artist Erin Lefler Draws Star Lord       0      2018   \n",
       "9708704  Star Wars: Episode IX Wraps, Plus New Celebrat...       0      2019   \n",
       "9708744  Queen's Shadow Author E.K. Johnston, Plus Star...       0      2019   \n",
       "\n",
       "        endYear runtimeMinutes                      genres  \n",
       "75151        \\N            121    Action,Adventure,Fantasy  \n",
       "78967        \\N            124    Action,Adventure,Fantasy  \n",
       "84311        \\N            131    Action,Adventure,Fantasy  \n",
       "86566      1986             \\N  Action,Adventure,Animation  \n",
       "117975       \\N            136    Action,Adventure,Fantasy  \n",
       "...         ...            ...                         ...  \n",
       "9683521      \\N             \\N                      Sci-Fi  \n",
       "9686187      \\N             32            Comedy,Game-Show  \n",
       "9708082      \\N             \\N                  Reality-TV  \n",
       "9708704      \\N             \\N      Sci-Fi,Short,Talk-Show  \n",
       "9708744      \\N             \\N      Sci-Fi,Short,Talk-Show  \n",
       "\n",
       "[5039 rows x 9 columns]"
      ]
     },
     "execution_count": 5,
     "metadata": {},
     "output_type": "execute_result"
    }
   ],
   "source": [
    "imdb_titles[imdb_titles[\"primaryTitle\"].astype(str).str.contains(\"star wars\", case=False)]"
   ]
  },
  {
   "cell_type": "code",
   "execution_count": 6,
   "id": "a390b9af",
   "metadata": {},
   "outputs": [
    {
     "name": "stdout",
     "output_type": "stream",
     "text": [
      "<class 'pandas.core.frame.DataFrame'>\n",
      "RangeIndex: 9717486 entries, 0 to 9717485\n",
      "Data columns (total 9 columns):\n",
      " #   Column          Dtype \n",
      "---  ------          ----- \n",
      " 0   tconst          object\n",
      " 1   titleType       object\n",
      " 2   primaryTitle    object\n",
      " 3   originalTitle   object\n",
      " 4   isAdult         object\n",
      " 5   startYear       object\n",
      " 6   endYear         object\n",
      " 7   runtimeMinutes  object\n",
      " 8   genres          object\n",
      "dtypes: object(9)\n",
      "memory usage: 667.2+ MB\n"
     ]
    }
   ],
   "source": [
    "imdb_titles.info()"
   ]
  },
  {
   "cell_type": "code",
   "execution_count": 8,
   "id": "0d444f95",
   "metadata": {},
   "outputs": [
    {
     "data": {
      "text/plain": [
       "(9717486, 9)"
      ]
     },
     "execution_count": 8,
     "metadata": {},
     "output_type": "execute_result"
    }
   ],
   "source": [
    "imdb_titles.shape"
   ]
  },
  {
   "cell_type": "code",
   "execution_count": 9,
   "id": "397eb200",
   "metadata": {},
   "outputs": [
    {
     "data": {
      "text/html": [
       "<div>\n",
       "<style scoped>\n",
       "    .dataframe tbody tr th:only-of-type {\n",
       "        vertical-align: middle;\n",
       "    }\n",
       "\n",
       "    .dataframe tbody tr th {\n",
       "        vertical-align: top;\n",
       "    }\n",
       "\n",
       "    .dataframe thead th {\n",
       "        text-align: right;\n",
       "    }\n",
       "</style>\n",
       "<table border=\"1\" class=\"dataframe\">\n",
       "  <thead>\n",
       "    <tr style=\"text-align: right;\">\n",
       "      <th></th>\n",
       "      <th>tconst</th>\n",
       "      <th>titleType</th>\n",
       "      <th>primaryTitle</th>\n",
       "      <th>originalTitle</th>\n",
       "      <th>isAdult</th>\n",
       "      <th>startYear</th>\n",
       "      <th>endYear</th>\n",
       "      <th>runtimeMinutes</th>\n",
       "      <th>genres</th>\n",
       "    </tr>\n",
       "  </thead>\n",
       "  <tbody>\n",
       "    <tr>\n",
       "      <th>count</th>\n",
       "      <td>9717486</td>\n",
       "      <td>9717486</td>\n",
       "      <td>9717475</td>\n",
       "      <td>9717475</td>\n",
       "      <td>9717486</td>\n",
       "      <td>9717486</td>\n",
       "      <td>9717486</td>\n",
       "      <td>9717486</td>\n",
       "      <td>9717475</td>\n",
       "    </tr>\n",
       "    <tr>\n",
       "      <th>unique</th>\n",
       "      <td>9717486</td>\n",
       "      <td>11</td>\n",
       "      <td>4410627</td>\n",
       "      <td>4432209</td>\n",
       "      <td>12</td>\n",
       "      <td>153</td>\n",
       "      <td>96</td>\n",
       "      <td>886</td>\n",
       "      <td>2339</td>\n",
       "    </tr>\n",
       "    <tr>\n",
       "      <th>top</th>\n",
       "      <td>tt0000001</td>\n",
       "      <td>tvEpisode</td>\n",
       "      <td>Episode #1.1</td>\n",
       "      <td>Episode #1.1</td>\n",
       "      <td>0</td>\n",
       "      <td>\\N</td>\n",
       "      <td>\\N</td>\n",
       "      <td>\\N</td>\n",
       "      <td>Drama</td>\n",
       "    </tr>\n",
       "    <tr>\n",
       "      <th>freq</th>\n",
       "      <td>1</td>\n",
       "      <td>7370386</td>\n",
       "      <td>47228</td>\n",
       "      <td>47228</td>\n",
       "      <td>9351368</td>\n",
       "      <td>1315072</td>\n",
       "      <td>9613171</td>\n",
       "      <td>6861795</td>\n",
       "      <td>1105220</td>\n",
       "    </tr>\n",
       "  </tbody>\n",
       "</table>\n",
       "</div>"
      ],
      "text/plain": [
       "           tconst  titleType  primaryTitle originalTitle  isAdult startYear  \\\n",
       "count     9717486    9717486       9717475       9717475  9717486   9717486   \n",
       "unique    9717486         11       4410627       4432209       12       153   \n",
       "top     tt0000001  tvEpisode  Episode #1.1  Episode #1.1        0        \\N   \n",
       "freq            1    7370386         47228         47228  9351368   1315072   \n",
       "\n",
       "        endYear runtimeMinutes   genres  \n",
       "count   9717486        9717486  9717475  \n",
       "unique       96            886     2339  \n",
       "top          \\N             \\N    Drama  \n",
       "freq    9613171        6861795  1105220  "
      ]
     },
     "execution_count": 9,
     "metadata": {},
     "output_type": "execute_result"
    }
   ],
   "source": [
    "imdb_titles.describe()"
   ]
  },
  {
   "cell_type": "code",
   "execution_count": 15,
   "id": "ec147e43",
   "metadata": {},
   "outputs": [
    {
     "data": {
      "text/plain": [
       "tvEpisode       7370386\n",
       "short            920797\n",
       "movie            639927\n",
       "video            272435\n",
       "tvSeries         240619\n",
       "tvMovie          140791\n",
       "tvMiniSeries      47819\n",
       "tvSpecial         40926\n",
       "videoGame         33788\n",
       "tvShort            9997\n",
       "tvPilot               1\n",
       "Name: titleType, dtype: int64"
      ]
     },
     "execution_count": 15,
     "metadata": {},
     "output_type": "execute_result"
    }
   ],
   "source": [
    "imdb_titles.titleType.value_counts()"
   ]
  },
  {
   "cell_type": "code",
   "execution_count": 44,
   "id": "5f03b6e1",
   "metadata": {},
   "outputs": [
    {
     "data": {
      "text/plain": [
       "462"
      ]
     },
     "execution_count": 44,
     "metadata": {},
     "output_type": "execute_result"
    }
   ],
   "source": [
    "len(themes.id.unique())"
   ]
  },
  {
   "cell_type": "code",
   "execution_count": null,
   "id": "a3221a49",
   "metadata": {},
   "outputs": [],
   "source": []
  }
 ],
 "metadata": {
  "kernelspec": {
   "display_name": "Python 3 (ipykernel)",
   "language": "python",
   "name": "python3"
  },
  "language_info": {
   "codemirror_mode": {
    "name": "ipython",
    "version": 3
   },
   "file_extension": ".py",
   "mimetype": "text/x-python",
   "name": "python",
   "nbconvert_exporter": "python",
   "pygments_lexer": "ipython3",
   "version": "3.9.13"
  }
 },
 "nbformat": 4,
 "nbformat_minor": 5
}
