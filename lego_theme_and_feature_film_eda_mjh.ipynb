{
 "cells": [
  {
   "cell_type": "markdown",
   "id": "7fa1e69a",
   "metadata": {},
   "source": [
    "## Lego DataSet Exploratory Data Analysis\n",
    "### DataSci200 Project 2"
   ]
  },
  {
   "cell_type": "code",
   "execution_count": 9,
   "id": "0d043378",
   "metadata": {},
   "outputs": [],
   "source": [
    "# Import Packages\n",
    "import pandas as pd\n",
    "import numpy as np\n",
    "import matplotlib.pyplot as plt\n",
    "import seaborn as sns\n",
    "import ipywidgets as widgets\n",
    "from IPython.display import display\n",
    "\n",
    "pd.set_option('display.max_rows', 1000)"
   ]
  },
  {
   "cell_type": "code",
   "execution_count": 10,
   "id": "e6234a04",
   "metadata": {
    "scrolled": false
   },
   "outputs": [
    {
     "name": "stderr",
     "output_type": "stream",
     "text": [
      "C:\\Users\\mhurth\\AppData\\Local\\Temp\\1\\ipykernel_9544\\603823613.py:5: DtypeWarning: Columns (4) have mixed types. Specify dtype option on import or set low_memory=False.\n",
      "  imdb_titles = pd.read_csv(\"C:/Users/mhurth/OneDrive - PureWest Energy/Desktop/MIDS/200/title.basics.tsv.gz\", sep= \"\\t\")\n"
     ]
    }
   ],
   "source": [
    "# Import Individual Lego DataFrames\n",
    "sets = pd.read_csv(\"data/sets.csv.gz\")\n",
    "themes = pd.read_csv(\"data/themes.csv.gz\")\n",
    "# Import IMDB data\n",
    "imdb_titles = pd.read_csv(\"C:/Users/mhurth/OneDrive - PureWest Energy/Desktop/MIDS/200/title.basics.tsv.gz\", sep= \"\\t\")"
   ]
  },
  {
   "cell_type": "code",
   "execution_count": 11,
   "id": "0790399b",
   "metadata": {},
   "outputs": [],
   "source": [
    "# Clean Up the IMDB dataset\n",
    "imdb_titles.replace('\\\\N', np.nan, inplace=True)\n",
    "imdb_titles.dropna(subset=[\"startYear\",\"titleType\",\"primaryTitle\", \"runtimeMinutes\"], inplace=True)\n",
    "# Filter start year for imdb data\n",
    "imdb_titles[\"startYear\"] = imdb_titles[\"startYear\"].astype(int)\n",
    "imdb_titles = imdb_titles[(imdb_titles[\"startYear\"] >= 1950) & (imdb_titles[\"startYear\"] <= 2022)]\n",
    "# Filter to only Movies \n",
    "imdb_titles = imdb_titles.loc[imdb_titles[\"titleType\"] == \"movie\"]\n",
    "# Clean Up column type to filter out short films\n",
    "imdb_titles[\"runtimeMinutes\"] = imdb_titles[\"runtimeMinutes\"].astype(int)\n",
    "imdb_titles = imdb_titles[imdb_titles[\"runtimeMinutes\"]>=60]"
   ]
  },
  {
   "cell_type": "code",
   "execution_count": 12,
   "id": "1d47aafb",
   "metadata": {
    "scrolled": false
   },
   "outputs": [],
   "source": [
    "# Filter to years for sets\n",
    "sets = sets.loc[sets.year <= 2022]\n",
    "# Merging Sets and Themes to look at most common themes over time\n",
    "sets_and_themes_df = sets.merge(themes, left_on=\"theme_id\", right_on=\"id\", how='left', suffixes=('_set', \"_theme\"))\n",
    "sets_and_themes_df = sets_and_themes_df.loc[sets_and_themes_df.year <= 2022]\n",
    "# Cleaning Sets and Themes by populating parent theme, and handiling parent theme nulls\n",
    "sets_and_themes_df.parent_id = sets_and_themes_df.parent_id.fillna(sets_and_themes_df.id)\n",
    "id_themes = sets_and_themes_df[[\"id\",\"name_theme\"]].drop_duplicates()\n",
    "sets_and_themes_df = sets_and_themes_df.merge(id_themes, left_on=\"parent_id\", right_on=\"id\", how=\"left\", suffixes=(\"\",\"_parent\"))\n",
    "sets_and_themes_df.drop(columns=[\"id_parent\"],inplace=True)\n",
    "sets_and_themes_df.rename(columns={\"name_theme_parent\":\"parent_theme\"}, inplace=True)\n",
    "sets_and_themes_df.loc[sets_and_themes_df.parent_id == 147, \"parent_theme\"] = \"Pirates I, Pirates II, Pirates III\"\n",
    "sets_and_themes_df.loc[sets_and_themes_df.parent_id == 296, \"parent_theme\"] = \"Dino Island, Desert, Orient Expedition, Jungle\"\n",
    "sets_and_themes_df.loc[sets_and_themes_df.parent_id == 561, \"parent_theme\"] = \"The Lord of the Rings, The Hobbit\""
   ]
  },
  {
   "cell_type": "markdown",
   "id": "6c69ed06",
   "metadata": {},
   "source": [
    "#### Movie Related Themes\n",
    "- Star Wars\n",
    "- Harry Potter\n",
    "- Jurassic World\n",
    "- Batman\n",
    "- The Hobbit/The Lord of the Rings\n",
    "- Indiana Jones\n",
    "- Pirates Of The Caribean\n",
    "- Minions\n",
    "- Trolls"
   ]
  },
  {
   "cell_type": "code",
   "execution_count": 21,
   "id": "e018ad21",
   "metadata": {},
   "outputs": [],
   "source": [
    "franchise_dict = {\"Star Wars\": {\"regex\": r'\\bstar wars\\b', \n",
    "                               \"movies\": [\"Star Wars: Episode IV - A New Hope\", \n",
    "                                          \"Star Wars: Episode V - The Empire Strikes Back\", \n",
    "                                          \"Star Wars: Episode VI - Return of the Jedi\", \n",
    "                                          \"Star Wars: Episode I - The Phantom Menace\",\n",
    "                                          \"Star Wars: Episode II - Attack of the Clones\",\n",
    "                                          \"Star Wars: Episode III - Revenge of the Sith\",\n",
    "                                          \"Star Wars: Episode VII - The Force Awakens\",\n",
    "                                          \"Star Wars: Episode VIII - The Last Jedi\",\n",
    "                                          \"Star Wars: Episode IX - The Rise of Skywalker\",\n",
    "                                          \"Solo: A Star Wars Story\",\n",
    "                                          \"Rogue One: A Star Wars Story\",\n",
    "                                          \"Solo: A Star Wars Story\"]},\n",
    "                  \"Harry Potter\": {\"regex\": r'\\bharry potter\\b', \n",
    "                                  \"movies\":[\"Harry Potter and the Sorcerer's Stone\",\n",
    "                                            \"Harry Potter and the Chamber of Secrets\",\n",
    "                                            \"Harry Potter and the Prisoner of Azkaban\",\n",
    "                                            \"Harry Potter and the Goblet of Fire\",\n",
    "                                            \"Harry Potter and the Order of the Phoenix\",\n",
    "                                            \"Harry Potter and the Half-Blood Prince\",\n",
    "                                            \"Harry Potter and the Deathly Hallows: Part 1\",\n",
    "                                            \"Harry Potter and the Deathly Hallows: Part 2\"]},\n",
    "                 \"Jurassic Park\": {\"regex\": r'\\bJurassic\\b', \n",
    "                                  \"movies\": [\"Jurassic Park\", \n",
    "                                             \"The Lost World: Jurassic Park\", \n",
    "                                             \"Jurassic Park III\", \n",
    "                                             \"Jurassic World\", \n",
    "                                             \"Jurassic World: Fallen Kingdom\", \n",
    "                                             \"Jurassic World: Dominion\"]},\n",
    "                  \"Batman\": {\"regex\": r'\\bbatman\\b', \n",
    "                                  \"movies\": [\"Batman: The Movie\",\n",
    "                                             \"Batman\",\n",
    "                                             \"Batman Returns\",\n",
    "                                             \"Batman: Mask of the Phantasm\",\n",
    "                                             \"Batman Forever\",\n",
    "                                             \"Batman & Robin\",\n",
    "                                             \"Batman Begins\",\n",
    "                                             \"The Dark Knight\",\n",
    "                                             \"The Dark Knight Rises\",\n",
    "                                             \"Batman v Superman: Dawn of Justice\",\n",
    "                                             \"The Lego Batman Movie\",\n",
    "                                             \"The Batman\"]},\n",
    "                 \"Lord of the Rings\": {\"regex\": r'\\bLord of the Rings\\b', \n",
    "                                       \"movies\": [\"The Hobbit: An Unexpected Journey\",\n",
    "                                                  \"The Hobbit: The Desolation of Smaug\",\n",
    "                                                  \"The Hobbit: The Battle of the Five Armies\",\n",
    "                                                  \"The Lord of the Rings: The Fellowship of the Ring\",\n",
    "                                                  \"The Lord of the Rings: The Two Towers\",\n",
    "                                                  \"The Lord of the Rings: The Return of the King\"]},\n",
    "                  \"Indiana Jones\": {\"regex\": r'\\bIndiana Jones\\b', \n",
    "                                    \"movies\": [\"Raiders of the Lost Ark\",\n",
    "                                               \"Indiana Jones and the Temple of Doom\",\n",
    "                                               \"Indiana Jones and the Last Crusade\",\n",
    "                                               \"Indiana Jones and the Kingdom of the Crystal Skull\"]},\n",
    "                 \"Pirates of the Caribbean\": {\"regex\": r'\\bPirates of the Caribbean\\b',\n",
    "                                              \"movies\": [\"Pirates of the Caribbean: The Curse of the Black Pearl\",\n",
    "                                                         \"Pirates of the Caribbean: Dead Man's Chest\",\n",
    "                                                         \"Pirates of the Caribbean: At World's End\",\n",
    "                                                         \"Pirates of the Caribbean: On Stranger Tides\",\n",
    "                                                         \"Pirates of the Caribbean: Dead Men Tell No Tales\"]},\n",
    "                 \"Minions\": {\"regex\": r'\\bMinions\\b',\n",
    "                             \"movies\": [\"Minions\",\n",
    "                                        \"Minions: The Rise of Gru\"]},\n",
    "                 \"Trolls\": {\"regex\": r'\\bTrolls\\b',\n",
    "                            \"movies\": [\"Trolls\",\n",
    "                                       \"Trolls 2: World Tour\"]}}\n"
   ]
  },
  {
   "cell_type": "code",
   "execution_count": 22,
   "id": "7872bd93",
   "metadata": {},
   "outputs": [],
   "source": [
    "def null_years_to_zero(df, df_imdb):\n",
    "    min_year = np.min(df_imdb[\"startYear\"])\n",
    "    max_year = np.max(df_imdb[\"startYear\"])\n",
    "    df = df.set_index('year')\n",
    "    df_new = pd.DataFrame({\"year\":range(min_year-5, min(2022,max_year+5)+1), \"set_num\": 0}).set_index(\"year\")\n",
    "    df_new[\"set_num\"]=df[\"set_num\"]\n",
    "    df_new.fillna(0, inplace=True)\n",
    "    df_new.reset_index(inplace=True)\n",
    "    return df_new"
   ]
  },
  {
   "cell_type": "code",
   "execution_count": 23,
   "id": "9a42b5c0",
   "metadata": {},
   "outputs": [],
   "source": [
    "def plot_movies_and_lego_sets(lego_df, imdb_df, movie_dict, name):\n",
    "    pattern = movie_dict[name][\"regex\"]\n",
    "    movie_list = movie_dict[name][\"movies\"]\n",
    "    lego = lego_df.loc[lego_df[\"parent_theme\"].str.contains(pattern, regex=True, case=False)]\n",
    "    lego = pd.DataFrame(lego.groupby(\"year\")[\"set_num\"].count()).reset_index()\n",
    "    imdb = imdb_df[imdb_df[\"primaryTitle\"].isin(movie_list)].sort_values(by=\"startYear\").reset_index()\n",
    "    cmap = plt.cm.get_cmap('hsv', len(imdb))\n",
    "    for i in range(len(imdb)):\n",
    "        year = imdb.loc[i, \"startYear\"]\n",
    "        title = imdb.loc[i, \"primaryTitle\"]\n",
    "        color = cmap(i)\n",
    "        plt.axvline(x=year, c=color, label=f\"{year}: {title}\")\n",
    "    lego = null_years_to_zero(lego, imdb)\n",
    "    sns.lineplot(data=lego, x=\"year\", y=\"set_num\", marker=\"o\")\n",
    "    plt.legend(loc='center left', bbox_to_anchor=(1, 0.5))\n",
    "    plt.ylabel(\"Number of Sets\")\n",
    "    plt.xlabel(\"Year\")\n",
    "    plt.title(f\"{name} Lego Set and Movie Releases by Year\")\n",
    "    plt.show()"
   ]
  },
  {
   "cell_type": "code",
   "execution_count": 26,
   "id": "33d895c0",
   "metadata": {},
   "outputs": [
    {
     "data": {
      "application/vnd.jupyter.widget-view+json": {
       "model_id": "94be4723a12c4f50962a9c66c83f6956",
       "version_major": 2,
       "version_minor": 0
      },
      "text/plain": [
       "interactive(children=(Dropdown(description='Theme', options=('Star Wars', 'Harry Potter', 'Jurassic Park', 'Ba…"
      ]
     },
     "metadata": {},
     "output_type": "display_data"
    }
   ],
   "source": [
    "movie_dropdown = widgets.Dropdown(options=list(franchise_dict.keys()), description = \"Theme\")\n",
    "def update_plot(name):\n",
    "    plot_movies_and_lego_sets(sets_and_themes_df, imdb_titles, franchise_dict, name)\n",
    "widgets.interactive(update_plot, name=movie_dropdown)  "
   ]
  },
  {
   "cell_type": "markdown",
   "id": "a739745e",
   "metadata": {},
   "source": [
    "#### Observations\n",
    "- StarWars\n",
    "- Harry Potter\n",
    "- Jurassic Park\n",
    "- Indiana Jones\n",
    "- Batman\n",
    "- LOTR\n",
    "- Pirates of the Carribean\n",
    "- Minions\n",
    "- Trolls"
   ]
  }
 ],
 "metadata": {
  "kernelspec": {
   "display_name": "Python 3 (ipykernel)",
   "language": "python",
   "name": "python3"
  },
  "language_info": {
   "codemirror_mode": {
    "name": "ipython",
    "version": 3
   },
   "file_extension": ".py",
   "mimetype": "text/x-python",
   "name": "python",
   "nbconvert_exporter": "python",
   "pygments_lexer": "ipython3",
   "version": "3.9.13"
  }
 },
 "nbformat": 4,
 "nbformat_minor": 5
}
